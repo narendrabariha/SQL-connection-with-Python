{
 "cells": [
  {
   "cell_type": "code",
   "execution_count": 1,
   "id": "partial-closing",
   "metadata": {},
   "outputs": [],
   "source": [
    "\n",
    "import pandas as pd\n",
    "import sqlite3 as s"
   ]
  },
  {
   "cell_type": "code",
   "execution_count": 2,
   "id": "contained-kernel",
   "metadata": {},
   "outputs": [],
   "source": [
    "conn = s.connect('sqlite4.db')"
   ]
  },
  {
   "cell_type": "code",
   "execution_count": 3,
   "id": "tender-willow",
   "metadata": {},
   "outputs": [],
   "source": [
    "cn = conn.cursor()"
   ]
  },
  {
   "cell_type": "code",
   "execution_count": 4,
   "id": "moderate-stephen",
   "metadata": {},
   "outputs": [
    {
     "data": {
      "text/plain": [
       "<sqlite3.Cursor at 0x1a2ae953a40>"
      ]
     },
     "execution_count": 4,
     "metadata": {},
     "output_type": "execute_result"
    }
   ],
   "source": [
    "cn.execute(\"CREATE TABLE employees (emp_id INTEGER PRIMARY KEY, first_name VARCHAR(50), last_name VARCHAR(50))\")"
   ]
  },
  {
   "cell_type": "code",
   "execution_count": 5,
   "id": "inclusive-looking",
   "metadata": {},
   "outputs": [
    {
     "data": {
      "text/plain": [
       "<sqlite3.Cursor at 0x1a2ae953a40>"
      ]
     },
     "execution_count": 5,
     "metadata": {},
     "output_type": "execute_result"
    }
   ],
   "source": [
    "cn.execute(\"INSERT INTO employees VALUES (1,'Ram','khan')\")\n",
    "cn.execute(\"INSERT INTO employees VALUES (2,'Shyam','murti')\")\n",
    "cn.execute(\"INSERT INTO employees VALUES (3,'Dev','kumar')\")"
   ]
  },
  {
   "cell_type": "code",
   "execution_count": 6,
   "id": "hindu-vietnam",
   "metadata": {},
   "outputs": [
    {
     "name": "stdout",
     "output_type": "stream",
     "text": [
      "[(1, 'Ram', 'khan'), (2, 'Shyam', 'murti'), (3, 'Dev', 'kumar')]\n"
     ]
    }
   ],
   "source": [
    "cn.execute(\"SELECT * FROM employees;\")\n",
    "print(cn.fetchall())"
   ]
  },
  {
   "cell_type": "code",
   "execution_count": 7,
   "id": "useful-alliance",
   "metadata": {},
   "outputs": [
    {
     "data": {
      "text/plain": [
       "<sqlite3.Cursor at 0x1a2ae9538c0>"
      ]
     },
     "execution_count": 7,
     "metadata": {},
     "output_type": "execute_result"
    }
   ],
   "source": [
    "new_employees = [(4, 'Kirti', 'prasad'),\n",
    " (5, 'Sonu', 'reman'),\n",
    " (6, 'Kavita', 'Barman'),\n",
    " (7, 'Raju', 'Adani'),\n",
    " (8, 'John', 'Smith'),\n",
    " (9, 'Angela', 'Marker'),\n",
    " (10, 'Mohan', 'joshi')]\n",
    "conn.executemany('INSERT INTO employees VALUES (?, ?, ?)', new_employees)"
   ]
  },
  {
   "cell_type": "code",
   "execution_count": 8,
   "id": "looking-advisory",
   "metadata": {},
   "outputs": [
    {
     "name": "stdout",
     "output_type": "stream",
     "text": [
      "[(1, 'Ram', 'khan'), (2, 'Shyam', 'murti'), (3, 'Dev', 'kumar'), (4, 'Kirti', 'prasad'), (5, 'Sonu', 'reman'), (6, 'Kavita', 'Barman'), (7, 'Raju', 'Adani'), (8, 'John', 'Smith'), (9, 'Angela', 'Marker'), (10, 'Mohan', 'joshi')]\n"
     ]
    }
   ],
   "source": [
    "cn.execute(\"SELECT * FROM employees;\")\n",
    "print(cn.fetchall())"
   ]
  },
  {
   "cell_type": "code",
   "execution_count": 9,
   "id": "6873e52a",
   "metadata": {},
   "outputs": [
    {
     "name": "stdout",
     "output_type": "stream",
     "text": [
      "(1, 'Ram', 'khan')\n",
      "(2, 'Shyam', 'murti')\n",
      "(3, 'Dev', 'kumar')\n",
      "(4, 'Kirti', 'prasad')\n",
      "(5, 'Sonu', 'reman')\n",
      "(6, 'Kavita', 'Barman')\n",
      "(7, 'Raju', 'Adani')\n",
      "(8, 'John', 'Smith')\n",
      "(9, 'Angela', 'Marker')\n",
      "(10, 'Mohan', 'joshi')\n"
     ]
    }
   ],
   "source": [
    "cn.execute(\"SELECT * FROM employees;\")\n",
    "\n",
    "results = cn.fetchall()\n",
    "for i in results:\n",
    "    print(i)\n",
    "\n",
    "\n",
    "cn.close()\n"
   ]
  },
  {
   "cell_type": "code",
   "execution_count": 10,
   "id": "featured-bleeding",
   "metadata": {},
   "outputs": [],
   "source": [
    "conn.commit()  # for not loss data or miss"
   ]
  },
  {
   "cell_type": "code",
   "execution_count": 11,
   "id": "valid-registrar",
   "metadata": {},
   "outputs": [],
   "source": [
    "cn.close()\n",
    "conn.close()"
   ]
  },
  {
   "cell_type": "code",
   "execution_count": 12,
   "id": "average-latino",
   "metadata": {},
   "outputs": [],
   "source": [
    "con = s.connect('sqlite4.db')\n",
    "df_employees = pd.read_sql_query('select * from employees', con)"
   ]
  },
  {
   "cell_type": "code",
   "execution_count": 13,
   "id": "accomplished-antigua",
   "metadata": {},
   "outputs": [
    {
     "data": {
      "text/html": [
       "<div>\n",
       "<style scoped>\n",
       "    .dataframe tbody tr th:only-of-type {\n",
       "        vertical-align: middle;\n",
       "    }\n",
       "\n",
       "    .dataframe tbody tr th {\n",
       "        vertical-align: top;\n",
       "    }\n",
       "\n",
       "    .dataframe thead th {\n",
       "        text-align: right;\n",
       "    }\n",
       "</style>\n",
       "<table border=\"1\" class=\"dataframe\">\n",
       "  <thead>\n",
       "    <tr style=\"text-align: right;\">\n",
       "      <th></th>\n",
       "      <th>emp_id</th>\n",
       "      <th>first_name</th>\n",
       "      <th>last_name</th>\n",
       "    </tr>\n",
       "  </thead>\n",
       "  <tbody>\n",
       "    <tr>\n",
       "      <th>0</th>\n",
       "      <td>1</td>\n",
       "      <td>Ram</td>\n",
       "      <td>khan</td>\n",
       "    </tr>\n",
       "    <tr>\n",
       "      <th>1</th>\n",
       "      <td>2</td>\n",
       "      <td>Shyam</td>\n",
       "      <td>murti</td>\n",
       "    </tr>\n",
       "    <tr>\n",
       "      <th>2</th>\n",
       "      <td>3</td>\n",
       "      <td>Dev</td>\n",
       "      <td>kumar</td>\n",
       "    </tr>\n",
       "    <tr>\n",
       "      <th>3</th>\n",
       "      <td>4</td>\n",
       "      <td>Kirti</td>\n",
       "      <td>prasad</td>\n",
       "    </tr>\n",
       "    <tr>\n",
       "      <th>4</th>\n",
       "      <td>5</td>\n",
       "      <td>Sonu</td>\n",
       "      <td>reman</td>\n",
       "    </tr>\n",
       "    <tr>\n",
       "      <th>5</th>\n",
       "      <td>6</td>\n",
       "      <td>Kavita</td>\n",
       "      <td>Barman</td>\n",
       "    </tr>\n",
       "    <tr>\n",
       "      <th>6</th>\n",
       "      <td>7</td>\n",
       "      <td>Raju</td>\n",
       "      <td>Adani</td>\n",
       "    </tr>\n",
       "    <tr>\n",
       "      <th>7</th>\n",
       "      <td>8</td>\n",
       "      <td>John</td>\n",
       "      <td>Smith</td>\n",
       "    </tr>\n",
       "    <tr>\n",
       "      <th>8</th>\n",
       "      <td>9</td>\n",
       "      <td>Angela</td>\n",
       "      <td>Marker</td>\n",
       "    </tr>\n",
       "    <tr>\n",
       "      <th>9</th>\n",
       "      <td>10</td>\n",
       "      <td>Mohan</td>\n",
       "      <td>joshi</td>\n",
       "    </tr>\n",
       "  </tbody>\n",
       "</table>\n",
       "</div>"
      ],
      "text/plain": [
       "   emp_id first_name last_name\n",
       "0       1        Ram      khan\n",
       "1       2      Shyam     murti\n",
       "2       3        Dev     kumar\n",
       "3       4      Kirti    prasad\n",
       "4       5       Sonu     reman\n",
       "5       6     Kavita    Barman\n",
       "6       7       Raju     Adani\n",
       "7       8       John     Smith\n",
       "8       9     Angela    Marker\n",
       "9      10      Mohan     joshi"
      ]
     },
     "execution_count": 13,
     "metadata": {},
     "output_type": "execute_result"
    }
   ],
   "source": [
    "df_employees"
   ]
  },
  {
   "cell_type": "code",
   "execution_count": 14,
   "id": "dfa22236",
   "metadata": {},
   "outputs": [
    {
     "name": "stdout",
     "output_type": "stream",
     "text": [
      "   emp_id first_name last_name\n",
      "0       1        Ram      khan\n",
      "1       2      Shyam     murti\n",
      "2       3        Dev     kumar\n",
      "3       4      Kirti    prasad\n",
      "4       5       Sonu     reman\n",
      "5       6     Kavita    Barman\n",
      "6       7       Raju     Adani\n",
      "7       9     Angela    Marker\n",
      "8      10      Mohan     joshi\n",
      "9      77       John     Smith\n"
     ]
    }
   ],
   "source": [
    "update_query = \"UPDATE employees SET emp_id = ? WHERE first_name = ?\"\n",
    "values = (77, 'John')\n",
    "con.execute(update_query, values)\n",
    "con.commit()\n",
    "\n",
    "\n",
    "df_updated = pd.read_sql_query('SELECT * FROM employees', con)\n",
    "\n",
    "\n",
    "con.close()\n",
    "\n",
    "\n",
    "print(df_updated)"
   ]
  },
  {
   "cell_type": "code",
   "execution_count": 15,
   "id": "fab70d28",
   "metadata": {
    "scrolled": true
   },
   "outputs": [
    {
     "name": "stdout",
     "output_type": "stream",
     "text": [
      "   emp_id first_name last_name\n",
      "0       1        Ram      khan\n",
      "1       2      Shyam     murti\n",
      "2       4      Kirti    prasad\n",
      "3       5       Sonu     reman\n",
      "4       6     Kavita    Barman\n",
      "5       7       Raju     Adani\n",
      "6       9     Angela    Marker\n",
      "7      10      Mohan     joshi\n",
      "8      77       John     Smith\n"
     ]
    }
   ],
   "source": [
    "\n",
    "con = s.connect('sqlite4.db')\n",
    "delete_query = \"DELETE FROM employees WHERE emp_id = ?\"\n",
    "values = (3,)\n",
    "con.execute(delete_query, values)\n",
    "con.commit()\n",
    "con.close()\n",
    "\n",
    "con = s.connect('sqlite4.db')\n",
    "\n",
    "df_updated = pd.read_sql_query('SELECT * FROM employees', con)\n",
    "\n",
    "con.close()\n",
    "print(df_updated)\n"
   ]
  },
  {
   "cell_type": "code",
   "execution_count": 16,
   "id": "1c2f6d3f",
   "metadata": {},
   "outputs": [
    {
     "name": "stdout",
     "output_type": "stream",
     "text": [
      "   emp_id first_name last_name salary\n",
      "0       1        Ram      khan   None\n",
      "1       2      Shyam     murti   None\n",
      "2       4      Kirti    prasad   None\n",
      "3       5       Sonu     reman   None\n",
      "4       6     Kavita    Barman   None\n",
      "5       7       Raju     Adani   None\n",
      "6       9     Angela    Marker   None\n",
      "7      10      Mohan     joshi   None\n",
      "8      77       John     Smith   None\n"
     ]
    }
   ],
   "source": [
    "# ALTER does add, remove ,modify structure of table\n",
    "# Connect to the SQLite database\n",
    "con = s.connect('sqlite4.db')\n",
    "\n",
    "alter_query = \"ALTER TABLE employees ADD COLUMN salary REAL\"\n",
    "con.execute(alter_query)\n",
    "con.commit()\n",
    "\n",
    "con = s.connect('sqlite4.db')\n",
    "df_updated = pd.read_sql_query('SELECT * FROM employees', con)\n",
    "\n",
    "con.close()\n",
    "print(df_updated)\n"
   ]
  },
  {
   "cell_type": "code",
   "execution_count": 17,
   "id": "a1dcbbfb",
   "metadata": {},
   "outputs": [
    {
     "name": "stdout",
     "output_type": "stream",
     "text": [
      "Table 'employees' does not exist.\n"
     ]
    }
   ],
   "source": [
    "con = s.connect('sqlite4.db')  # Connect to the database\n",
    "\n",
    "drop_query = \"DROP TABLE if exists employees\"\n",
    "con.execute(drop_query)\n",
    "con.commit()\n",
    "\n",
    "try:\n",
    "    df_updated = pd.read_sql_query('SELECT * FROM employees', con)\n",
    "    print(\"Table 'employees' exists\")\n",
    "    print(df_updated)\n",
    "except:\n",
    "    print(\"Table 'employees' does not exist.\")\n",
    "finally:\n",
    "    con.close()\n"
   ]
  },
  {
   "cell_type": "code",
   "execution_count": null,
   "id": "18d4e464",
   "metadata": {},
   "outputs": [],
   "source": []
  },
  {
   "cell_type": "code",
   "execution_count": 18,
   "id": "c7ec3ef7",
   "metadata": {},
   "outputs": [],
   "source": [
    "df_updated.to_csv('employee_data.csv')"
   ]
  },
  {
   "cell_type": "code",
   "execution_count": null,
   "id": "2d5a456b",
   "metadata": {},
   "outputs": [],
   "source": []
  }
 ],
 "metadata": {
  "kernelspec": {
   "display_name": "Python 3 (ipykernel)",
   "language": "python",
   "name": "python3"
  },
  "language_info": {
   "codemirror_mode": {
    "name": "ipython",
    "version": 3
   },
   "file_extension": ".py",
   "mimetype": "text/x-python",
   "name": "python",
   "nbconvert_exporter": "python",
   "pygments_lexer": "ipython3",
   "version": "3.10.9"
  }
 },
 "nbformat": 4,
 "nbformat_minor": 5
}
